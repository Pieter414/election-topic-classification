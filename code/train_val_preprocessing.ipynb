{
 "cells": [
  {
   "cell_type": "markdown",
   "id": "d443c59d-17bb-4385-9658-8c598fed2348",
   "metadata": {},
   "source": [
    "!TODO:\n",
    "    \n",
    "- Explore more complex nor unique preprocessing (singkatan, tidak baku, bahasa inggris, pos tagging)"
   ]
  },
  {
   "cell_type": "markdown",
   "id": "5ef5368b-5d07-4ae3-9cc9-7357e90f3cfe",
   "metadata": {
    "tags": []
   },
   "source": [
    "# Import modules & overview\n"
   ]
  },
  {
   "cell_type": "code",
   "execution_count": 1,
   "id": "7218e897-6720-4f35-89c8-8c3746c6655d",
   "metadata": {},
   "outputs": [],
   "source": [
    "# basic import\n",
    "import pandas as pd\n",
    "import numpy as np\n",
    "import matplotlib.pyplot as plt\n",
    "from collections import Counter\n",
    "import seaborn as sns\n",
    "import math\n",
    "\n",
    "%matplotlib inline"
   ]
  },
  {
   "cell_type": "code",
   "execution_count": 2,
   "id": "6a292840-fb3b-4715-ad6b-613f13838f59",
   "metadata": {},
   "outputs": [],
   "source": [
    "import spacy\n",
    "import re"
   ]
  },
  {
   "cell_type": "code",
   "execution_count": 3,
   "id": "9eda5bce-ca45-4690-b576-70a11f83a531",
   "metadata": {},
   "outputs": [],
   "source": [
    "link_train = \"./dataset/train.csv\"\n",
    "link_test = \"./dataset/test.csv\""
   ]
  },
  {
   "cell_type": "code",
   "execution_count": 4,
   "id": "caba89ac-ad08-4bcd-890d-cb077e215002",
   "metadata": {
    "tags": []
   },
   "outputs": [],
   "source": [
    "train_df = pd.read_csv(link_train, delimiter=\";\")\n",
    "test_df = pd.read_csv(link_test, delimiter=\";\")"
   ]
  },
  {
   "cell_type": "code",
   "execution_count": 5,
   "id": "beabde86-9c6a-4843-acb8-a1eed1db0e0d",
   "metadata": {},
   "outputs": [],
   "source": [
    "# train_df['text'] = train_df['stemmed_text']\n",
    "# train_df.drop(columns=['label_angka', 'stemmed_text', 'Unnamed: 0'], inplace=True)"
   ]
  },
  {
   "cell_type": "code",
   "execution_count": 6,
   "id": "8ad7df35-6d99-42c1-aa8f-4422d4332c17",
   "metadata": {},
   "outputs": [
    {
     "data": {
      "text/html": [
       "<div>\n",
       "<style scoped>\n",
       "    .dataframe tbody tr th:only-of-type {\n",
       "        vertical-align: middle;\n",
       "    }\n",
       "\n",
       "    .dataframe tbody tr th {\n",
       "        vertical-align: top;\n",
       "    }\n",
       "\n",
       "    .dataframe thead th {\n",
       "        text-align: right;\n",
       "    }\n",
       "</style>\n",
       "<table border=\"1\" class=\"dataframe\">\n",
       "  <thead>\n",
       "    <tr style=\"text-align: right;\">\n",
       "      <th></th>\n",
       "      <th>text</th>\n",
       "      <th>label</th>\n",
       "    </tr>\n",
       "  </thead>\n",
       "  <tbody>\n",
       "    <tr>\n",
       "      <th>0</th>\n",
       "      <td>Kunjungan Prabowo ini untuk meresmikan dan men...</td>\n",
       "      <td>Sumber Daya Alam</td>\n",
       "    </tr>\n",
       "    <tr>\n",
       "      <th>1</th>\n",
       "      <td>RT Anies dapat tepuk tangan meriah saat jadi R...</td>\n",
       "      <td>Politik</td>\n",
       "    </tr>\n",
       "    <tr>\n",
       "      <th>2</th>\n",
       "      <td>@CIqXqwGAT04tMtx4OCATxjoVq7vv/Y8HeYaIOgMFg8Y= ...</td>\n",
       "      <td>Demografi</td>\n",
       "    </tr>\n",
       "    <tr>\n",
       "      <th>3</th>\n",
       "      <td>RT @L3R8XFBw3WGbxRPSj0/0hHZTbqVGX7qtfwRg9zmhK7...</td>\n",
       "      <td>Politik</td>\n",
       "    </tr>\n",
       "    <tr>\n",
       "      <th>4</th>\n",
       "      <td>Anies Baswedan Harap ASN termasuk TNI dan Polr...</td>\n",
       "      <td>Politik</td>\n",
       "    </tr>\n",
       "  </tbody>\n",
       "</table>\n",
       "</div>"
      ],
      "text/plain": [
       "                                                text             label\n",
       "0  Kunjungan Prabowo ini untuk meresmikan dan men...  Sumber Daya Alam\n",
       "1  RT Anies dapat tepuk tangan meriah saat jadi R...           Politik\n",
       "2  @CIqXqwGAT04tMtx4OCATxjoVq7vv/Y8HeYaIOgMFg8Y= ...         Demografi\n",
       "3  RT @L3R8XFBw3WGbxRPSj0/0hHZTbqVGX7qtfwRg9zmhK7...           Politik\n",
       "4  Anies Baswedan Harap ASN termasuk TNI dan Polr...           Politik"
      ]
     },
     "execution_count": 6,
     "metadata": {},
     "output_type": "execute_result"
    }
   ],
   "source": [
    "train_df.head()"
   ]
  },
  {
   "cell_type": "code",
   "execution_count": 7,
   "id": "dc64b5c2-6675-4f9c-88b8-6db0059150e3",
   "metadata": {},
   "outputs": [
    {
     "data": {
      "text/html": [
       "<div>\n",
       "<style scoped>\n",
       "    .dataframe tbody tr th:only-of-type {\n",
       "        vertical-align: middle;\n",
       "    }\n",
       "\n",
       "    .dataframe tbody tr th {\n",
       "        vertical-align: top;\n",
       "    }\n",
       "\n",
       "    .dataframe thead th {\n",
       "        text-align: right;\n",
       "    }\n",
       "</style>\n",
       "<table border=\"1\" class=\"dataframe\">\n",
       "  <thead>\n",
       "    <tr style=\"text-align: right;\">\n",
       "      <th></th>\n",
       "      <th>IDText</th>\n",
       "      <th>Text</th>\n",
       "    </tr>\n",
       "  </thead>\n",
       "  <tbody>\n",
       "    <tr>\n",
       "      <th>0</th>\n",
       "      <td>TXT0001</td>\n",
       "      <td>Lu mau org2 pro-demokrasi di negara ini bisa p...</td>\n",
       "    </tr>\n",
       "    <tr>\n",
       "      <th>1</th>\n",
       "      <td>TXT0002</td>\n",
       "      <td>Prabowo ditanya soal hutang luar negeri dia me...</td>\n",
       "    </tr>\n",
       "    <tr>\n",
       "      <th>2</th>\n",
       "      <td>TXT0003</td>\n",
       "      <td>kiki_daliyo  Ganjar Pranowo itulah beliau soso...</td>\n",
       "    </tr>\n",
       "    <tr>\n",
       "      <th>3</th>\n",
       "      <td>TXT0004</td>\n",
       "      <td>@kumparan Prabowo Gibran yang bisa melakukan i...</td>\n",
       "    </tr>\n",
       "    <tr>\n",
       "      <th>4</th>\n",
       "      <td>TXT0005</td>\n",
       "      <td>@sniperruben45 @uda_zulhendra @ainunnajib Lah ...</td>\n",
       "    </tr>\n",
       "  </tbody>\n",
       "</table>\n",
       "</div>"
      ],
      "text/plain": [
       "    IDText                                               Text\n",
       "0  TXT0001  Lu mau org2 pro-demokrasi di negara ini bisa p...\n",
       "1  TXT0002  Prabowo ditanya soal hutang luar negeri dia me...\n",
       "2  TXT0003  kiki_daliyo  Ganjar Pranowo itulah beliau soso...\n",
       "3  TXT0004  @kumparan Prabowo Gibran yang bisa melakukan i...\n",
       "4  TXT0005  @sniperruben45 @uda_zulhendra @ainunnajib Lah ..."
      ]
     },
     "execution_count": 7,
     "metadata": {},
     "output_type": "execute_result"
    }
   ],
   "source": [
    "test_df.head()"
   ]
  },
  {
   "cell_type": "markdown",
   "id": "db2cc769-f9ea-4c74-8daa-c7e2ffec2b72",
   "metadata": {},
   "source": [
    "Mari kita eksplor dataset, mulai dari ukuran, informasi dan detail kolom."
   ]
  },
  {
   "cell_type": "code",
   "execution_count": 8,
   "id": "873a787d-3a00-4071-9b26-4e9c84adfd86",
   "metadata": {},
   "outputs": [
    {
     "data": {
      "text/plain": [
       "text     4583\n",
       "label       8\n",
       "dtype: int64"
      ]
     },
     "execution_count": 8,
     "metadata": {},
     "output_type": "execute_result"
    }
   ],
   "source": [
    "train_df.nunique()"
   ]
  },
  {
   "cell_type": "code",
   "execution_count": 9,
   "id": "88a281ad-1767-40b8-9ab8-dc8080a220d7",
   "metadata": {},
   "outputs": [
    {
     "data": {
      "text/plain": [
       "label\n",
       "Politik                    2972\n",
       "Sosial Budaya               587\n",
       "Pertahanan dan Keamanan     400\n",
       "Ideologi                    400\n",
       "Ekonomi                     367\n",
       "Sumber Daya Alam            192\n",
       "Demografi                    62\n",
       "Geografi                     20\n",
       "Name: count, dtype: int64"
      ]
     },
     "execution_count": 9,
     "metadata": {},
     "output_type": "execute_result"
    }
   ],
   "source": [
    "train_df['label'].value_counts()"
   ]
  },
  {
   "cell_type": "markdown",
   "id": "37834142-ed3a-4c58-ae33-387d3217c3d2",
   "metadata": {
    "tags": []
   },
   "source": [
    "# Text Preprocessing"
   ]
  },
  {
   "cell_type": "code",
   "execution_count": 10,
   "id": "d3aeeaa5-66b6-498c-ac33-75bbb3640544",
   "metadata": {},
   "outputs": [],
   "source": [
    "def counter_word(df, view=10):\n",
    "    counter = df['text'].apply(lambda x:str(x).split())\n",
    "    top = Counter([item for sublist in counter for item in sublist])\n",
    "    temp = pd.DataFrame(top.most_common(view))\n",
    "    temp.columns = ['Common_words','count']\n",
    "    return temp.style.background_gradient(cmap='Blues')\n",
    "\n",
    "def counter_word2(df, view=10, length=5):\n",
    "    counter = df['text'].apply(lambda x:str(x).split())\n",
    "    top = Counter([item for sublist in counter for item in sublist if len(item) > length])\n",
    "    temp = pd.DataFrame(top.most_common(view))\n",
    "    temp.columns = ['Common_words','count']\n",
    "    return temp.style.background_gradient(cmap='Blues')"
   ]
  },
  {
   "cell_type": "code",
   "execution_count": 11,
   "id": "d06a4a96-0521-4639-b506-1cb8fccdfe3e",
   "metadata": {},
   "outputs": [
    {
     "data": {
      "text/html": [
       "<style type=\"text/css\">\n",
       "#T_cce94_row0_col1 {\n",
       "  background-color: #08306b;\n",
       "  color: #f1f1f1;\n",
       "}\n",
       "#T_cce94_row1_col1 {\n",
       "  background-color: #0f5aa3;\n",
       "  color: #f1f1f1;\n",
       "}\n",
       "#T_cce94_row2_col1 {\n",
       "  background-color: #5ca4d0;\n",
       "  color: #f1f1f1;\n",
       "}\n",
       "#T_cce94_row3_col1 {\n",
       "  background-color: #c7dcef;\n",
       "  color: #000000;\n",
       "}\n",
       "#T_cce94_row4_col1, #T_cce94_row5_col1 {\n",
       "  background-color: #cddff1;\n",
       "  color: #000000;\n",
       "}\n",
       "#T_cce94_row6_col1 {\n",
       "  background-color: #d6e5f4;\n",
       "  color: #000000;\n",
       "}\n",
       "#T_cce94_row7_col1 {\n",
       "  background-color: #e3eef8;\n",
       "  color: #000000;\n",
       "}\n",
       "#T_cce94_row8_col1 {\n",
       "  background-color: #e3eef9;\n",
       "  color: #000000;\n",
       "}\n",
       "#T_cce94_row9_col1 {\n",
       "  background-color: #e5eff9;\n",
       "  color: #000000;\n",
       "}\n",
       "#T_cce94_row10_col1 {\n",
       "  background-color: #e7f0fa;\n",
       "  color: #000000;\n",
       "}\n",
       "#T_cce94_row11_col1, #T_cce94_row12_col1 {\n",
       "  background-color: #e8f1fa;\n",
       "  color: #000000;\n",
       "}\n",
       "#T_cce94_row13_col1 {\n",
       "  background-color: #eff6fc;\n",
       "  color: #000000;\n",
       "}\n",
       "#T_cce94_row14_col1 {\n",
       "  background-color: #f0f6fd;\n",
       "  color: #000000;\n",
       "}\n",
       "#T_cce94_row15_col1 {\n",
       "  background-color: #f1f7fd;\n",
       "  color: #000000;\n",
       "}\n",
       "#T_cce94_row16_col1 {\n",
       "  background-color: #f2f7fd;\n",
       "  color: #000000;\n",
       "}\n",
       "#T_cce94_row17_col1 {\n",
       "  background-color: #f2f8fd;\n",
       "  color: #000000;\n",
       "}\n",
       "#T_cce94_row18_col1, #T_cce94_row19_col1, #T_cce94_row20_col1 {\n",
       "  background-color: #f3f8fe;\n",
       "  color: #000000;\n",
       "}\n",
       "#T_cce94_row21_col1 {\n",
       "  background-color: #f4f9fe;\n",
       "  color: #000000;\n",
       "}\n",
       "#T_cce94_row22_col1 {\n",
       "  background-color: #f5fafe;\n",
       "  color: #000000;\n",
       "}\n",
       "#T_cce94_row23_col1, #T_cce94_row24_col1 {\n",
       "  background-color: #f6faff;\n",
       "  color: #000000;\n",
       "}\n",
       "#T_cce94_row25_col1, #T_cce94_row26_col1, #T_cce94_row27_col1, #T_cce94_row28_col1, #T_cce94_row29_col1 {\n",
       "  background-color: #f7fbff;\n",
       "  color: #000000;\n",
       "}\n",
       "</style>\n",
       "<table id=\"T_cce94\">\n",
       "  <thead>\n",
       "    <tr>\n",
       "      <th class=\"blank level0\" >&nbsp;</th>\n",
       "      <th id=\"T_cce94_level0_col0\" class=\"col_heading level0 col0\" >Common_words</th>\n",
       "      <th id=\"T_cce94_level0_col1\" class=\"col_heading level0 col1\" >count</th>\n",
       "    </tr>\n",
       "  </thead>\n",
       "  <tbody>\n",
       "    <tr>\n",
       "      <th id=\"T_cce94_level0_row0\" class=\"row_heading level0 row0\" >0</th>\n",
       "      <td id=\"T_cce94_row0_col0\" class=\"data row0 col0\" >#GanjarPranowoPilihanUmat</td>\n",
       "      <td id=\"T_cce94_row0_col1\" class=\"data row0 col1\" >658</td>\n",
       "    </tr>\n",
       "    <tr>\n",
       "      <th id=\"T_cce94_level0_row1\" class=\"row_heading level0 row1\" >1</th>\n",
       "      <td id=\"T_cce94_row1_col0\" class=\"data row1 col0\" >#GanjarMahfudRebound</td>\n",
       "      <td id=\"T_cce94_row1_col1\" class=\"data row1 col1\" >558</td>\n",
       "    </tr>\n",
       "    <tr>\n",
       "      <th id=\"T_cce94_level0_row2\" class=\"row_heading level0 row2\" >2</th>\n",
       "      <td id=\"T_cce94_row2_col0\" class=\"data row2 col0\" >#GanjarMahfud2024</td>\n",
       "      <td id=\"T_cce94_row2_col1\" class=\"data row2 col1\" >377</td>\n",
       "    </tr>\n",
       "    <tr>\n",
       "      <th id=\"T_cce94_level0_row3\" class=\"row_heading level0 row3\" >3</th>\n",
       "      <td id=\"T_cce94_row3_col0\" class=\"data row3 col0\" >Ganjar-Mahfud</td>\n",
       "      <td id=\"T_cce94_row3_col1\" class=\"data row3 col1\" >190</td>\n",
       "    </tr>\n",
       "    <tr>\n",
       "      <th id=\"T_cce94_level0_row4\" class=\"row_heading level0 row4\" >4</th>\n",
       "      <td id=\"T_cce94_row4_col0\" class=\"data row4 col0\" >#AMINAjaDulu</td>\n",
       "      <td id=\"T_cce94_row4_col1\" class=\"data row4 col1\" >172</td>\n",
       "    </tr>\n",
       "    <tr>\n",
       "      <th id=\"T_cce94_level0_row5\" class=\"row_heading level0 row5\" >5</th>\n",
       "      <td id=\"T_cce94_row5_col0\" class=\"data row5 col0\" >Prabowo-Gibran</td>\n",
       "      <td id=\"T_cce94_row5_col1\" class=\"data row5 col1\" >172</td>\n",
       "    </tr>\n",
       "    <tr>\n",
       "      <th id=\"T_cce94_level0_row6\" class=\"row_heading level0 row6\" >6</th>\n",
       "      <td id=\"T_cce94_row6_col0\" class=\"data row6 col0\" >#02Melanjutkan</td>\n",
       "      <td id=\"T_cce94_row6_col1\" class=\"data row6 col1\" >143</td>\n",
       "    </tr>\n",
       "    <tr>\n",
       "      <th id=\"T_cce94_level0_row7\" class=\"row_heading level0 row7\" >7</th>\n",
       "      <td id=\"T_cce94_row7_col0\" class=\"data row7 col0\" >Yurissa_Samosir]</td>\n",
       "      <td id=\"T_cce94_row7_col1\" class=\"data row7 col1\" >103</td>\n",
       "    </tr>\n",
       "    <tr>\n",
       "      <th id=\"T_cce94_level0_row8\" class=\"row_heading level0 row8\" >8</th>\n",
       "      <td id=\"T_cce94_row8_col0\" class=\"data row8 col0\" >#DuluJokowiSekarangGanjar</td>\n",
       "      <td id=\"T_cce94_row8_col1\" class=\"data row8 col1\" >100</td>\n",
       "    </tr>\n",
       "    <tr>\n",
       "      <th id=\"T_cce94_level0_row9\" class=\"row_heading level0 row9\" >9</th>\n",
       "      <td id=\"T_cce94_row9_col0\" class=\"data row9 col0\" >Mdy_Asmara1701]</td>\n",
       "      <td id=\"T_cce94_row9_col1\" class=\"data row9 col1\" >96</td>\n",
       "    </tr>\n",
       "    <tr>\n",
       "      <th id=\"T_cce94_level0_row10\" class=\"row_heading level0 row10\" >10</th>\n",
       "      <td id=\"T_cce94_row10_col0\" class=\"data row10 col0\" >#IndonesiaSentris</td>\n",
       "      <td id=\"T_cce94_row10_col1\" class=\"data row10 col1\" >91</td>\n",
       "    </tr>\n",
       "    <tr>\n",
       "      <th id=\"T_cce94_level0_row11\" class=\"row_heading level0 row11\" >11</th>\n",
       "      <td id=\"T_cce94_row11_col0\" class=\"data row11 col0\" >#IndonesiaHijau</td>\n",
       "      <td id=\"T_cce94_row11_col1\" class=\"data row11 col1\" >86</td>\n",
       "    </tr>\n",
       "    <tr>\n",
       "      <th id=\"T_cce94_level0_row12\" class=\"row_heading level0 row12\" >12</th>\n",
       "      <td id=\"T_cce94_row12_col0\" class=\"data row12 col0\" >#AnakMudaIndonesiaEmas</td>\n",
       "      <td id=\"T_cce94_row12_col1\" class=\"data row12 col1\" >86</td>\n",
       "    </tr>\n",
       "    <tr>\n",
       "      <th id=\"T_cce94_level0_row13\" class=\"row_heading level0 row13\" >13</th>\n",
       "      <td id=\"T_cce94_row13_col0\" class=\"data row13 col0\" >#GanjarMahfudM3nangDebat</td>\n",
       "      <td id=\"T_cce94_row13_col1\" class=\"data row13 col1\" >65</td>\n",
       "    </tr>\n",
       "    <tr>\n",
       "      <th id=\"T_cce94_level0_row14\" class=\"row_heading level0 row14\" >14</th>\n",
       "      <td id=\"T_cce94_row14_col0\" class=\"data row14 col0\" >kesejahteraan</td>\n",
       "      <td id=\"T_cce94_row14_col1\" class=\"data row14 col1\" >63</td>\n",
       "    </tr>\n",
       "    <tr>\n",
       "      <th id=\"T_cce94_level0_row15\" class=\"row_heading level0 row15\" >15</th>\n",
       "      <td id=\"T_cce94_row15_col0\" class=\"data row15 col0\" >#IndonesiaKuatIndonesiaMaju</td>\n",
       "      <td id=\"T_cce94_row15_col1\" class=\"data row15 col1\" >60</td>\n",
       "    </tr>\n",
       "    <tr>\n",
       "      <th id=\"T_cce94_level0_row16\" class=\"row_heading level0 row16\" >16</th>\n",
       "      <td id=\"T_cce94_row16_col0\" class=\"data row16 col0\" >#DiplomasiProgresif02</td>\n",
       "      <td id=\"T_cce94_row16_col1\" class=\"data row16 col1\" >57</td>\n",
       "    </tr>\n",
       "    <tr>\n",
       "      <th id=\"T_cce94_level0_row17\" class=\"row_heading level0 row17\" >17</th>\n",
       "      <td id=\"T_cce94_row17_col0\" class=\"data row17 col0\" >#DebatCapres</td>\n",
       "      <td id=\"T_cce94_row17_col1\" class=\"data row17 col1\" >54</td>\n",
       "    </tr>\n",
       "    <tr>\n",
       "      <th id=\"T_cce94_level0_row18\" class=\"row_heading level0 row18\" >18</th>\n",
       "      <td id=\"T_cce94_row18_col0\" class=\"data row18 col0\" >#MahfudLebihBaik3</td>\n",
       "      <td id=\"T_cce94_row18_col1\" class=\"data row18 col1\" >53</td>\n",
       "    </tr>\n",
       "    <tr>\n",
       "      <th id=\"T_cce94_level0_row19\" class=\"row_heading level0 row19\" >19</th>\n",
       "      <td id=\"T_cce94_row19_col0\" class=\"data row19 col0\" >#AniesMuhaimin2024</td>\n",
       "      <td id=\"T_cce94_row19_col1\" class=\"data row19 col1\" >52</td>\n",
       "    </tr>\n",
       "    <tr>\n",
       "      <th id=\"T_cce94_level0_row20\" class=\"row_heading level0 row20\" >20</th>\n",
       "      <td id=\"T_cce94_row20_col0\" class=\"data row20 col0\" >kepemimpinan</td>\n",
       "      <td id=\"T_cce94_row20_col1\" class=\"data row20 col1\" >52</td>\n",
       "    </tr>\n",
       "    <tr>\n",
       "      <th id=\"T_cce94_level0_row21\" class=\"row_heading level0 row21\" >21</th>\n",
       "      <td id=\"T_cce94_row21_col0\" class=\"data row21 col0\" >Ganjar-Mahfud,</td>\n",
       "      <td id=\"T_cce94_row21_col1\" class=\"data row21 col1\" >50</td>\n",
       "    </tr>\n",
       "    <tr>\n",
       "      <th id=\"T_cce94_level0_row22\" class=\"row_heading level0 row22\" >22</th>\n",
       "      <td id=\"T_cce94_row22_col0\" class=\"data row22 col0\" >meningkatkan</td>\n",
       "      <td id=\"T_cce94_row22_col1\" class=\"data row22 col1\" >46</td>\n",
       "    </tr>\n",
       "    <tr>\n",
       "      <th id=\"T_cce94_level0_row23\" class=\"row_heading level0 row23\" >23</th>\n",
       "      <td id=\"T_cce94_row23_col0\" class=\"data row23 col0\" >penghasilannya</td>\n",
       "      <td id=\"T_cce94_row23_col1\" class=\"data row23 col1\" >42</td>\n",
       "    </tr>\n",
       "    <tr>\n",
       "      <th id=\"T_cce94_level0_row24\" class=\"row_heading level0 row24\" >24</th>\n",
       "      <td id=\"T_cce94_row24_col0\" class=\"data row24 col0\" >https://t.co/txIvBhLvn2</td>\n",
       "      <td id=\"T_cce94_row24_col1\" class=\"data row24 col1\" >42</td>\n",
       "    </tr>\n",
       "    <tr>\n",
       "      <th id=\"T_cce94_level0_row25\" class=\"row_heading level0 row25\" >25</th>\n",
       "      <td id=\"T_cce94_row25_col0\" class=\"data row25 col0\" >OposisiCerdas]</td>\n",
       "      <td id=\"T_cce94_row25_col1\" class=\"data row25 col1\" >40</td>\n",
       "    </tr>\n",
       "    <tr>\n",
       "      <th id=\"T_cce94_level0_row26\" class=\"row_heading level0 row26\" >26</th>\n",
       "      <td id=\"T_cce94_row26_col0\" class=\"data row26 col0\" >#MenangSeputaran</td>\n",
       "      <td id=\"T_cce94_row26_col1\" class=\"data row26 col1\" >40</td>\n",
       "    </tr>\n",
       "    <tr>\n",
       "      <th id=\"T_cce94_level0_row27\" class=\"row_heading level0 row27\" >27</th>\n",
       "      <td id=\"T_cce94_row27_col0\" class=\"data row27 col0\" >Anies-Muhaimin</td>\n",
       "      <td id=\"T_cce94_row27_col1\" class=\"data row27 col1\" >39</td>\n",
       "    </tr>\n",
       "    <tr>\n",
       "      <th id=\"T_cce94_level0_row28\" class=\"row_heading level0 row28\" >28</th>\n",
       "      <td id=\"T_cce94_row28_col0\" class=\"data row28 col0\" >penganiayaan</td>\n",
       "      <td id=\"T_cce94_row28_col1\" class=\"data row28 col1\" >39</td>\n",
       "    </tr>\n",
       "    <tr>\n",
       "      <th id=\"T_cce94_level0_row29\" class=\"row_heading level0 row29\" >29</th>\n",
       "      <td id=\"T_cce94_row29_col0\" class=\"data row29 col0\" >elektabilitas</td>\n",
       "      <td id=\"T_cce94_row29_col1\" class=\"data row29 col1\" >39</td>\n",
       "    </tr>\n",
       "  </tbody>\n",
       "</table>\n"
      ],
      "text/plain": [
       "<pandas.io.formats.style.Styler at 0x7fc98b8a6c00>"
      ]
     },
     "execution_count": 11,
     "metadata": {},
     "output_type": "execute_result"
    }
   ],
   "source": [
    "counter_word2(train_df, 30, 11)"
   ]
  },
  {
   "cell_type": "code",
   "execution_count": 41,
   "id": "20464558-95f9-4a96-a65f-1ea8b89aeb5d",
   "metadata": {},
   "outputs": [],
   "source": [
    "process_df = train_df.copy()"
   ]
  },
  {
   "cell_type": "markdown",
   "id": "7a9df747-2223-4e3b-83eb-7790bd9c4b88",
   "metadata": {
    "tags": []
   },
   "source": [
    "## Drop duplicated texts"
   ]
  },
  {
   "cell_type": "markdown",
   "id": "75653b5d-32f5-4483-95dd-d5848bb8af96",
   "metadata": {},
   "source": [
    "Data yang duplikat hanya memperberat teks untuk di preproses dan model untuk belajar, belum juga risiko model cenderung bias akibat data duplikat."
   ]
  },
  {
   "cell_type": "code",
   "execution_count": 42,
   "id": "5ff192ec-5e6a-40d9-a1da-f4df0c7e7eb1",
   "metadata": {},
   "outputs": [
    {
     "data": {
      "text/plain": [
       "381"
      ]
     },
     "execution_count": 42,
     "metadata": {},
     "output_type": "execute_result"
    }
   ],
   "source": [
    "process_df.duplicated().sum()"
   ]
  },
  {
   "cell_type": "code",
   "execution_count": 43,
   "id": "f09dd6c0-e035-4fcf-af4d-a2d084c4380e",
   "metadata": {},
   "outputs": [],
   "source": [
    "process_df.drop_duplicates(inplace=True)"
   ]
  },
  {
   "cell_type": "code",
   "execution_count": 44,
   "id": "790b86a8-dcae-471f-8c3a-9c8e5ab42b5f",
   "metadata": {},
   "outputs": [
    {
     "data": {
      "text/plain": [
       "0"
      ]
     },
     "execution_count": 44,
     "metadata": {},
     "output_type": "execute_result"
    }
   ],
   "source": [
    "process_df.duplicated().sum()"
   ]
  },
  {
   "cell_type": "code",
   "execution_count": 45,
   "id": "48d826a5-74d0-452b-b1d3-218285a364ae",
   "metadata": {},
   "outputs": [
    {
     "data": {
      "text/plain": [
       "(4619, 2)"
      ]
     },
     "execution_count": 45,
     "metadata": {},
     "output_type": "execute_result"
    }
   ],
   "source": [
    "process_df.shape"
   ]
  },
  {
   "cell_type": "markdown",
   "id": "f9f44068-3bb8-49e7-8a80-016063ba18d0",
   "metadata": {},
   "source": [
    "From 5000 texts turned into 4609 texts fr training and validation"
   ]
  },
  {
   "cell_type": "markdown",
   "id": "056a536d-f30c-4edb-b73e-e5aff4ef9b47",
   "metadata": {
    "tags": []
   },
   "source": [
    "## Removing Unecessary words"
   ]
  },
  {
   "cell_type": "markdown",
   "id": "da0011d3-4d63-4752-ac6f-0d56041f18f7",
   "metadata": {},
   "source": [
    "Yang termasuk sebagai kata yang tidak penting diantaranya username twitter atau mention, kata yang terlalu panjang"
   ]
  },
  {
   "cell_type": "markdown",
   "id": "b58d27e1-97ad-4372-a70b-d1214d88c9ac",
   "metadata": {},
   "source": [
    "Penjelasan regex:\n",
    "\n",
    "- @ = Mencocokkan simbol @ sebagai awalan username.\n",
    "- [A-Za-z0-9+/=]+ =  Mencocokkan satu atau lebih karakter huruf (besar/kecil), angka, tanda plus (+), garis miring (/), atau sama dengan (=).\n",
    "- (?=\\s|$$) =  Menjamin bahwa pola diakhiri dengan spasi (\\s) atau akhir baris ($), tanpa meninggalkan karakter setelah username."
   ]
  },
  {
   "cell_type": "code",
   "execution_count": 46,
   "id": "febbc427-3ebe-482a-9224-9891887d3ddc",
   "metadata": {},
   "outputs": [
    {
     "data": {
      "text/html": [
       "<div>\n",
       "<style scoped>\n",
       "    .dataframe tbody tr th:only-of-type {\n",
       "        vertical-align: middle;\n",
       "    }\n",
       "\n",
       "    .dataframe tbody tr th {\n",
       "        vertical-align: top;\n",
       "    }\n",
       "\n",
       "    .dataframe thead th {\n",
       "        text-align: right;\n",
       "    }\n",
       "</style>\n",
       "<table border=\"1\" class=\"dataframe\">\n",
       "  <thead>\n",
       "    <tr style=\"text-align: right;\">\n",
       "      <th></th>\n",
       "      <th>text</th>\n",
       "      <th>label</th>\n",
       "    </tr>\n",
       "  </thead>\n",
       "  <tbody>\n",
       "    <tr>\n",
       "      <th>0</th>\n",
       "      <td>Kunjungan Prabowo ini untuk meresmikan dan men...</td>\n",
       "      <td>Sumber Daya Alam</td>\n",
       "    </tr>\n",
       "    <tr>\n",
       "      <th>1</th>\n",
       "      <td>RT Anies dapat tepuk tangan meriah saat jadi R...</td>\n",
       "      <td>Politik</td>\n",
       "    </tr>\n",
       "    <tr>\n",
       "      <th>2</th>\n",
       "      <td>emng bener sih, pendukung 01 ada yg goblok, b...</td>\n",
       "      <td>Demografi</td>\n",
       "    </tr>\n",
       "    <tr>\n",
       "      <th>3</th>\n",
       "      <td>RT  Sewaktu anies bersikap kritis ke kinerja p...</td>\n",
       "      <td>Politik</td>\n",
       "    </tr>\n",
       "    <tr>\n",
       "      <th>4</th>\n",
       "      <td>Anies Baswedan Harap ASN termasuk TNI dan Polr...</td>\n",
       "      <td>Politik</td>\n",
       "    </tr>\n",
       "    <tr>\n",
       "      <th>5</th>\n",
       "      <td>RT Duh jangan sampai Pak lurah denger nih Ã°ÂŸ...</td>\n",
       "      <td>Politik</td>\n",
       "    </tr>\n",
       "    <tr>\n",
       "      <th>6</th>\n",
       "      <td>Prabowo minta Kemenhan dan Tim Satgas Air Unha...</td>\n",
       "      <td>Pertahanan dan Keamanan</td>\n",
       "    </tr>\n",
       "    <tr>\n",
       "      <th>7</th>\n",
       "      <td>RT Anies: Ya Allah Sibukkanlah Orang Zalim Aga...</td>\n",
       "      <td>Politik</td>\n",
       "    </tr>\n",
       "    <tr>\n",
       "      <th>8</th>\n",
       "      <td>RT Abah  itu bapa kami, bapa yg berikan perhat...</td>\n",
       "      <td>Politik</td>\n",
       "    </tr>\n",
       "    <tr>\n",
       "      <th>9</th>\n",
       "      <td>RT Bawaslu dimaki \"JANCUK\" sama warga garaÃ‚Â²...</td>\n",
       "      <td>Politik</td>\n",
       "    </tr>\n",
       "  </tbody>\n",
       "</table>\n",
       "</div>"
      ],
      "text/plain": [
       "                                                text                    label\n",
       "0  Kunjungan Prabowo ini untuk meresmikan dan men...         Sumber Daya Alam\n",
       "1  RT Anies dapat tepuk tangan meriah saat jadi R...                  Politik\n",
       "2   emng bener sih, pendukung 01 ada yg goblok, b...                Demografi\n",
       "3  RT  Sewaktu anies bersikap kritis ke kinerja p...                  Politik\n",
       "4  Anies Baswedan Harap ASN termasuk TNI dan Polr...                  Politik\n",
       "5  RT Duh jangan sampai Pak lurah denger nih Ã°ÂŸ...                  Politik\n",
       "6  Prabowo minta Kemenhan dan Tim Satgas Air Unha...  Pertahanan dan Keamanan\n",
       "7  RT Anies: Ya Allah Sibukkanlah Orang Zalim Aga...                  Politik\n",
       "8  RT Abah  itu bapa kami, bapa yg berikan perhat...                  Politik\n",
       "9  RT Bawaslu dimaki \"JANCUK\" sama warga garaÃ‚Â²...                  Politik"
      ]
     },
     "execution_count": 46,
     "metadata": {},
     "output_type": "execute_result"
    }
   ],
   "source": [
    "# hapus mention @\n",
    "process_df['text'] = process_df['text'].str.replace(r'@[A-Za-z0-9+/=]+(?=\\s|$)', '', regex=True)\n",
    "process_df.head(10)"
   ]
  },
  {
   "cell_type": "code",
   "execution_count": 70,
   "id": "4384b321-d9b1-4c86-9077-a5e219b75f84",
   "metadata": {},
   "outputs": [
    {
     "name": "stdout",
     "output_type": "stream",
     "text": [
      "RT Abah @znOMP7ZMVU9dMuMNA/cIazC9q5+hgwVkTsQNdQLKgTc= itu bapa kami, bapa yg berikan perhatian untuk pendidikan anak anak Papua jadi pintar pintar. Gerakan Indonesia mengajar tak bisa di lupakan sama warga Papua. Kami ingin bapa Anies jadi Presiden. https://t.co/FCdf6J1L3Z [RE LANGKAHANIES]\n",
      "\n",
      " abah bapa bapa yg berikan perhatian pendidikan anak anak papua jadi pintar pintar gerakan indonesia mengajar tak di lupakan sama warga papua ingin bapa anies jadi presiden re langkahanies\n"
     ]
    }
   ],
   "source": [
    "rows = 8\n",
    "row = train_df.iloc[rows]  \n",
    "row2 = process_df.iloc[rows] \n",
    "print(row['text']) \n",
    "print()\n",
    "print(row2['text']) "
   ]
  },
  {
   "cell_type": "code",
   "execution_count": 55,
   "id": "d0c4c41b-6461-4bbd-a182-d7d1ea6fc768",
   "metadata": {},
   "outputs": [
    {
     "ename": "ValueError",
     "evalue": "Length mismatch: Expected axis has 0 elements, new values have 2 elements",
     "output_type": "error",
     "traceback": [
      "\u001b[0;31m---------------------------------------------------------------------------\u001b[0m",
      "\u001b[0;31mValueError\u001b[0m                                Traceback (most recent call last)",
      "Cell \u001b[0;32mIn[55], line 9\u001b[0m\n\u001b[1;32m      6\u001b[0m     \u001b[38;5;28;01mreturn\u001b[39;00m temp\u001b[38;5;241m.\u001b[39mstyle\u001b[38;5;241m.\u001b[39mbackground_gradient(cmap\u001b[38;5;241m=\u001b[39m\u001b[38;5;124m'\u001b[39m\u001b[38;5;124mBlues\u001b[39m\u001b[38;5;124m'\u001b[39m)\n\u001b[1;32m      8\u001b[0m \u001b[38;5;66;03m# Top 20 username yang TAG dalam teks training\u001b[39;00m\n\u001b[0;32m----> 9\u001b[0m counter_word_username(process_df, \u001b[38;5;241m100\u001b[39m)\n",
      "Cell \u001b[0;32mIn[55], line 5\u001b[0m, in \u001b[0;36mcounter_word_username\u001b[0;34m(df, view)\u001b[0m\n\u001b[1;32m      3\u001b[0m top \u001b[38;5;241m=\u001b[39m Counter([item \u001b[38;5;28;01mfor\u001b[39;00m sublist \u001b[38;5;129;01min\u001b[39;00m counter \u001b[38;5;28;01mfor\u001b[39;00m item \u001b[38;5;129;01min\u001b[39;00m sublist \u001b[38;5;28;01mif\u001b[39;00m \u001b[38;5;124m'\u001b[39m\u001b[38;5;124m@\u001b[39m\u001b[38;5;124m'\u001b[39m \u001b[38;5;129;01min\u001b[39;00m item])\n\u001b[1;32m      4\u001b[0m temp \u001b[38;5;241m=\u001b[39m pd\u001b[38;5;241m.\u001b[39mDataFrame(top\u001b[38;5;241m.\u001b[39mmost_common(view))\n\u001b[0;32m----> 5\u001b[0m temp\u001b[38;5;241m.\u001b[39mcolumns \u001b[38;5;241m=\u001b[39m [\u001b[38;5;124m'\u001b[39m\u001b[38;5;124mCommon_words\u001b[39m\u001b[38;5;124m'\u001b[39m,\u001b[38;5;124m'\u001b[39m\u001b[38;5;124mcount\u001b[39m\u001b[38;5;124m'\u001b[39m]\n\u001b[1;32m      6\u001b[0m \u001b[38;5;28;01mreturn\u001b[39;00m temp\u001b[38;5;241m.\u001b[39mstyle\u001b[38;5;241m.\u001b[39mbackground_gradient(cmap\u001b[38;5;241m=\u001b[39m\u001b[38;5;124m'\u001b[39m\u001b[38;5;124mBlues\u001b[39m\u001b[38;5;124m'\u001b[39m)\n",
      "File \u001b[0;32m~/.conda/envs/dac/lib/python3.12/site-packages/pandas/core/generic.py:6313\u001b[0m, in \u001b[0;36mNDFrame.__setattr__\u001b[0;34m(self, name, value)\u001b[0m\n\u001b[1;32m   6311\u001b[0m \u001b[38;5;28;01mtry\u001b[39;00m:\n\u001b[1;32m   6312\u001b[0m     \u001b[38;5;28mobject\u001b[39m\u001b[38;5;241m.\u001b[39m\u001b[38;5;21m__getattribute__\u001b[39m(\u001b[38;5;28mself\u001b[39m, name)\n\u001b[0;32m-> 6313\u001b[0m     \u001b[38;5;28;01mreturn\u001b[39;00m \u001b[38;5;28mobject\u001b[39m\u001b[38;5;241m.\u001b[39m\u001b[38;5;21m__setattr__\u001b[39m(\u001b[38;5;28mself\u001b[39m, name, value)\n\u001b[1;32m   6314\u001b[0m \u001b[38;5;28;01mexcept\u001b[39;00m \u001b[38;5;167;01mAttributeError\u001b[39;00m:\n\u001b[1;32m   6315\u001b[0m     \u001b[38;5;28;01mpass\u001b[39;00m\n",
      "File \u001b[0;32mproperties.pyx:69\u001b[0m, in \u001b[0;36mpandas._libs.properties.AxisProperty.__set__\u001b[0;34m()\u001b[0m\n",
      "File \u001b[0;32m~/.conda/envs/dac/lib/python3.12/site-packages/pandas/core/generic.py:814\u001b[0m, in \u001b[0;36mNDFrame._set_axis\u001b[0;34m(self, axis, labels)\u001b[0m\n\u001b[1;32m    809\u001b[0m \u001b[38;5;250m\u001b[39m\u001b[38;5;124;03m\"\"\"\u001b[39;00m\n\u001b[1;32m    810\u001b[0m \u001b[38;5;124;03mThis is called from the cython code when we set the `index` attribute\u001b[39;00m\n\u001b[1;32m    811\u001b[0m \u001b[38;5;124;03mdirectly, e.g. `series.index = [1, 2, 3]`.\u001b[39;00m\n\u001b[1;32m    812\u001b[0m \u001b[38;5;124;03m\"\"\"\u001b[39;00m\n\u001b[1;32m    813\u001b[0m labels \u001b[38;5;241m=\u001b[39m ensure_index(labels)\n\u001b[0;32m--> 814\u001b[0m \u001b[38;5;28mself\u001b[39m\u001b[38;5;241m.\u001b[39m_mgr\u001b[38;5;241m.\u001b[39mset_axis(axis, labels)\n\u001b[1;32m    815\u001b[0m \u001b[38;5;28mself\u001b[39m\u001b[38;5;241m.\u001b[39m_clear_item_cache()\n",
      "File \u001b[0;32m~/.conda/envs/dac/lib/python3.12/site-packages/pandas/core/internals/managers.py:238\u001b[0m, in \u001b[0;36mBaseBlockManager.set_axis\u001b[0;34m(self, axis, new_labels)\u001b[0m\n\u001b[1;32m    236\u001b[0m \u001b[38;5;28;01mdef\u001b[39;00m \u001b[38;5;21mset_axis\u001b[39m(\u001b[38;5;28mself\u001b[39m, axis: AxisInt, new_labels: Index) \u001b[38;5;241m-\u001b[39m\u001b[38;5;241m>\u001b[39m \u001b[38;5;28;01mNone\u001b[39;00m:\n\u001b[1;32m    237\u001b[0m     \u001b[38;5;66;03m# Caller is responsible for ensuring we have an Index object.\u001b[39;00m\n\u001b[0;32m--> 238\u001b[0m     \u001b[38;5;28mself\u001b[39m\u001b[38;5;241m.\u001b[39m_validate_set_axis(axis, new_labels)\n\u001b[1;32m    239\u001b[0m     \u001b[38;5;28mself\u001b[39m\u001b[38;5;241m.\u001b[39maxes[axis] \u001b[38;5;241m=\u001b[39m new_labels\n",
      "File \u001b[0;32m~/.conda/envs/dac/lib/python3.12/site-packages/pandas/core/internals/base.py:98\u001b[0m, in \u001b[0;36mDataManager._validate_set_axis\u001b[0;34m(self, axis, new_labels)\u001b[0m\n\u001b[1;32m     95\u001b[0m     \u001b[38;5;28;01mpass\u001b[39;00m\n\u001b[1;32m     97\u001b[0m \u001b[38;5;28;01melif\u001b[39;00m new_len \u001b[38;5;241m!=\u001b[39m old_len:\n\u001b[0;32m---> 98\u001b[0m     \u001b[38;5;28;01mraise\u001b[39;00m \u001b[38;5;167;01mValueError\u001b[39;00m(\n\u001b[1;32m     99\u001b[0m         \u001b[38;5;124mf\u001b[39m\u001b[38;5;124m\"\u001b[39m\u001b[38;5;124mLength mismatch: Expected axis has \u001b[39m\u001b[38;5;132;01m{\u001b[39;00mold_len\u001b[38;5;132;01m}\u001b[39;00m\u001b[38;5;124m elements, new \u001b[39m\u001b[38;5;124m\"\u001b[39m\n\u001b[1;32m    100\u001b[0m         \u001b[38;5;124mf\u001b[39m\u001b[38;5;124m\"\u001b[39m\u001b[38;5;124mvalues have \u001b[39m\u001b[38;5;132;01m{\u001b[39;00mnew_len\u001b[38;5;132;01m}\u001b[39;00m\u001b[38;5;124m elements\u001b[39m\u001b[38;5;124m\"\u001b[39m\n\u001b[1;32m    101\u001b[0m     )\n",
      "\u001b[0;31mValueError\u001b[0m: Length mismatch: Expected axis has 0 elements, new values have 2 elements"
     ]
    }
   ],
   "source": [
    "def counter_word_username(df, view=10):\n",
    "    counter = df['text'].apply(lambda x:str(x).split())\n",
    "    top = Counter([item for sublist in counter for item in sublist if '@' in item])\n",
    "    temp = pd.DataFrame(top.most_common(view))\n",
    "    temp.columns = ['Common_words','count']\n",
    "    return temp.style.background_gradient(cmap='Blues')\n",
    "\n",
    "# Top 20 username yang TAG dalam teks training\n",
    "counter_word_username(process_df, 100)"
   ]
  },
  {
   "cell_type": "markdown",
   "id": "c5fa20a8-0f15-4ce9-a169-5f72bc3a21c9",
   "metadata": {},
   "source": [
    "Kita bisa melihat bahwa semua username telah bersih, yang tersisa dapat kita hilangkan dengan dictionary sederhana"
   ]
  },
  {
   "cell_type": "markdown",
   "id": "d29260ff-6589-4eab-b120-4a74586e7bc9",
   "metadata": {},
   "source": [
    "Penjelasan regex: \n",
    "\n",
    "- \\[: Mencocokkan tanda kurung siku pembuka [.\n",
    "- [^\\]]+: Mencocokkan satu atau lebih karakter apapun kecuali tanda kurung siku penutup ].\n",
    "- \\]: Mencocokkan tanda kurung siku penutup ]."
   ]
  },
  {
   "cell_type": "code",
   "execution_count": 56,
   "id": "b191351f-3468-48b7-943c-ad0e304cc9aa",
   "metadata": {},
   "outputs": [],
   "source": [
    "# hapus username RE\n",
    "process_df['text'] = process_df['text'].str.replace(r'\\[[^\\]]+\\]', '', regex=True)"
   ]
  },
  {
   "cell_type": "code",
   "execution_count": 31,
   "id": "bdc5e3de-dc57-43eb-aaec-ac5ed8f3f656",
   "metadata": {},
   "outputs": [
    {
     "data": {
      "text/html": [
       "<style type=\"text/css\">\n",
       "</style>\n",
       "<table id=\"T_e2cbd\">\n",
       "  <thead>\n",
       "    <tr>\n",
       "      <th class=\"blank level0\" >&nbsp;</th>\n",
       "      <th id=\"T_e2cbd_level0_col0\" class=\"col_heading level0 col0\" >Username</th>\n",
       "      <th id=\"T_e2cbd_level0_col1\" class=\"col_heading level0 col1\" >Count</th>\n",
       "    </tr>\n",
       "  </thead>\n",
       "  <tbody>\n",
       "  </tbody>\n",
       "</table>\n"
      ],
      "text/plain": [
       "<pandas.io.formats.style.Styler at 0x7fc98b20f170>"
      ]
     },
     "execution_count": 31,
     "metadata": {},
     "output_type": "execute_result"
    }
   ],
   "source": [
    "def counter_word_username2(df, view=10):\n",
    "    counter = df['text'].dropna().apply(lambda x: re.findall(r'\\[RE ([^\\]]+)\\]', x)) \n",
    "    top = Counter([item for sublist in counter for item in sublist])\n",
    "    temp = pd.DataFrame(top.most_common(view), columns=['Username', 'Count'])\n",
    "    return temp.style.background_gradient(cmap='Blues')\n",
    "\n",
    "counter_word_username2(process_df, 10)"
   ]
  },
  {
   "cell_type": "code",
   "execution_count": 48,
   "id": "db14a6f4-e777-4e9e-874e-4403f70c42f1",
   "metadata": {},
   "outputs": [],
   "source": [
    "# hapus link\n",
    "process_df['text'] = process_df['text'].str.replace(r'https?://\\S+', '', regex=True)"
   ]
  },
  {
   "cell_type": "code",
   "execution_count": 49,
   "id": "685f9c85-862d-4b8e-8a3d-84c4a0b86f1a",
   "metadata": {},
   "outputs": [],
   "source": [
    "# hapus angka dan tanda baca\n",
    "process_df['text'] = process_df['text'].str.replace(r'[\\d!\"#$%&\\'()*+,\\-./:;<=>?@[\\\\\\]^_`{|}~]', '', regex=True)"
   ]
  },
  {
   "cell_type": "code",
   "execution_count": 50,
   "id": "b4d44c4c-7bc9-4f43-94ec-5cefaad5b9fd",
   "metadata": {},
   "outputs": [],
   "source": [
    "# hapus kata yang typo lebih dari 20 kata\n",
    "process_df['text'] = process_df['text'].str.replace(r'\\b\\w{20,}\\b', '', regex=True)"
   ]
  },
  {
   "cell_type": "code",
   "execution_count": 51,
   "id": "fdc82a27-058a-42d5-9a8d-f661db845b1b",
   "metadata": {},
   "outputs": [],
   "source": [
    "# Menghapus semua karakter non-alfabet dan non-spasi\n",
    "process_df['text'] = process_df['text'].str.replace(r'[^A-Za-z\\s]', '', regex=True)"
   ]
  },
  {
   "cell_type": "code",
   "execution_count": 52,
   "id": "26f326f3-7f9d-4fb1-a1c2-3e6991cd5405",
   "metadata": {},
   "outputs": [],
   "source": [
    "# Menghapus kata \"RT\"\n",
    "process_df['text'] = process_df['text'].str.replace(r'\\bRT\\b', '', regex=True)\n",
    "\n",
    "# Mengganti spasi berlebihan dengan satu spasi\n",
    "process_df['text'] = process_df['text'].str.replace(r'\\s{2,}', ' ', regex=True)"
   ]
  },
  {
   "cell_type": "code",
   "execution_count": 53,
   "id": "dd84dcdf-af54-4cec-9425-1f86cc54b2e6",
   "metadata": {},
   "outputs": [],
   "source": [
    "process_df.drop_duplicates(inplace=True) # memastikan tidak ada duplikat"
   ]
  },
  {
   "cell_type": "markdown",
   "id": "22c6e7b3-3116-494c-af99-f7e729250d52",
   "metadata": {},
   "source": [
    "Berikut merupakan bruteforce regex filtering kata-kata yang setidaknya tidak digunakan"
   ]
  },
  {
   "cell_type": "markdown",
   "id": "b396ebea-0971-446d-857e-00081c11e9e6",
   "metadata": {
    "tags": []
   },
   "source": [
    "## Case folding"
   ]
  },
  {
   "cell_type": "code",
   "execution_count": 57,
   "id": "03ddb875-e8cf-4db7-b65a-da407b821f46",
   "metadata": {},
   "outputs": [],
   "source": [
    "process_df['text'] = process_df['text'].str.lower()"
   ]
  },
  {
   "cell_type": "code",
   "execution_count": 58,
   "id": "7b80153f-afbb-4624-ab5d-6573726944d9",
   "metadata": {},
   "outputs": [
    {
     "data": {
      "text/html": [
       "<div>\n",
       "<style scoped>\n",
       "    .dataframe tbody tr th:only-of-type {\n",
       "        vertical-align: middle;\n",
       "    }\n",
       "\n",
       "    .dataframe tbody tr th {\n",
       "        vertical-align: top;\n",
       "    }\n",
       "\n",
       "    .dataframe thead th {\n",
       "        text-align: right;\n",
       "    }\n",
       "</style>\n",
       "<table border=\"1\" class=\"dataframe\">\n",
       "  <thead>\n",
       "    <tr style=\"text-align: right;\">\n",
       "      <th></th>\n",
       "      <th>text</th>\n",
       "      <th>label</th>\n",
       "    </tr>\n",
       "  </thead>\n",
       "  <tbody>\n",
       "    <tr>\n",
       "      <th>0</th>\n",
       "      <td>kunjungan prabowo ini untuk meresmikan dan men...</td>\n",
       "      <td>Sumber Daya Alam</td>\n",
       "    </tr>\n",
       "    <tr>\n",
       "      <th>1</th>\n",
       "      <td>anies dapat tepuk tangan meriah saat jadi rek...</td>\n",
       "      <td>Politik</td>\n",
       "    </tr>\n",
       "    <tr>\n",
       "      <th>2</th>\n",
       "      <td>emng bener sih pendukung ada yg goblok begitu...</td>\n",
       "      <td>Demografi</td>\n",
       "    </tr>\n",
       "    <tr>\n",
       "      <th>3</th>\n",
       "      <td>sewaktu anies bersikap kritis ke kinerja pak ...</td>\n",
       "      <td>Politik</td>\n",
       "    </tr>\n",
       "    <tr>\n",
       "      <th>4</th>\n",
       "      <td>anies baswedan harap asn termasuk tni dan polr...</td>\n",
       "      <td>Politik</td>\n",
       "    </tr>\n",
       "    <tr>\n",
       "      <th>...</th>\n",
       "      <td>...</td>\n",
       "      <td>...</td>\n",
       "    </tr>\n",
       "    <tr>\n",
       "      <th>4995</th>\n",
       "      <td>ngeliat debat kemaren pas prabowo kicep kekir...</td>\n",
       "      <td>Politik</td>\n",
       "    </tr>\n",
       "    <tr>\n",
       "      <th>4996</th>\n",
       "      <td>masyarakat yakin bahwa prabowogibran memiliki ...</td>\n",
       "      <td>Politik</td>\n",
       "    </tr>\n",
       "    <tr>\n",
       "      <th>4997</th>\n",
       "      <td>imo both are irrational but yg satu jauh lebih...</td>\n",
       "      <td>Ekonomi</td>\n",
       "    </tr>\n",
       "    <tr>\n",
       "      <th>4998</th>\n",
       "      <td>look at that pak ganjar anda sdh berkecimpung...</td>\n",
       "      <td>Pertahanan dan Keamanan</td>\n",
       "    </tr>\n",
       "    <tr>\n",
       "      <th>4999</th>\n",
       "      <td>acara ini tidak hanya memasak tetapi calon pre...</td>\n",
       "      <td>Sumber Daya Alam</td>\n",
       "    </tr>\n",
       "  </tbody>\n",
       "</table>\n",
       "<p>4358 rows × 2 columns</p>\n",
       "</div>"
      ],
      "text/plain": [
       "                                                   text  \\\n",
       "0     kunjungan prabowo ini untuk meresmikan dan men...   \n",
       "1      anies dapat tepuk tangan meriah saat jadi rek...   \n",
       "2      emng bener sih pendukung ada yg goblok begitu...   \n",
       "3      sewaktu anies bersikap kritis ke kinerja pak ...   \n",
       "4     anies baswedan harap asn termasuk tni dan polr...   \n",
       "...                                                 ...   \n",
       "4995   ngeliat debat kemaren pas prabowo kicep kekir...   \n",
       "4996  masyarakat yakin bahwa prabowogibran memiliki ...   \n",
       "4997  imo both are irrational but yg satu jauh lebih...   \n",
       "4998   look at that pak ganjar anda sdh berkecimpung...   \n",
       "4999  acara ini tidak hanya memasak tetapi calon pre...   \n",
       "\n",
       "                        label  \n",
       "0            Sumber Daya Alam  \n",
       "1                     Politik  \n",
       "2                   Demografi  \n",
       "3                     Politik  \n",
       "4                     Politik  \n",
       "...                       ...  \n",
       "4995                  Politik  \n",
       "4996                  Politik  \n",
       "4997                  Ekonomi  \n",
       "4998  Pertahanan dan Keamanan  \n",
       "4999         Sumber Daya Alam  \n",
       "\n",
       "[4358 rows x 2 columns]"
      ]
     },
     "execution_count": 58,
     "metadata": {},
     "output_type": "execute_result"
    }
   ],
   "source": [
    "process_df"
   ]
  },
  {
   "cell_type": "code",
   "execution_count": 69,
   "id": "8738c687-f8e8-4b69-8c80-5c38b5955ff7",
   "metadata": {},
   "outputs": [
    {
     "name": "stdout",
     "output_type": "stream",
     "text": [
      "Kunjungan Prabowo ini untuk meresmikan dan menyerahkan proyek bantuan air bersih di lima titik. #IndonesiaSentris #IndonesiaHijau #02Melanjutkan #AnakMudaIndonesiaEmas Prabowo Subianto\n",
      "\n",
      " abah bapa bapa yg berikan perhatian pendidikan anak anak papua jadi pintar pintar gerakan indonesia mengajar tak di lupakan sama warga papua ingin bapa anies jadi presiden re langkahanies\n"
     ]
    }
   ],
   "source": [
    "print(train_df.loc[0, 'text'])\n",
    "print()\n",
    "print(process_df.loc[8, 'text'])"
   ]
  },
  {
   "cell_type": "markdown",
   "id": "c8a4ac7c-1dbe-4060-a510-f9ee762bef02",
   "metadata": {
    "tags": []
   },
   "source": [
    "## Stopping Stopword"
   ]
  },
  {
   "cell_type": "markdown",
   "id": "21259df3-c7f2-4105-841f-7266c8fb9149",
   "metadata": {},
   "source": [
    "### Sastrawi"
   ]
  },
  {
   "cell_type": "markdown",
   "id": "3f6cac79-7033-476b-b454-ab7cb856b02e",
   "metadata": {},
   "source": [
    "Kami menggunakan library Sastrawi untuk stopping stopword, stemming teks Bahasa Indonesia"
   ]
  },
  {
   "cell_type": "code",
   "execution_count": 64,
   "id": "9d1aca2b-0276-457f-aecf-7b38c87accf2",
   "metadata": {},
   "outputs": [],
   "source": [
    "from Sastrawi.StopWordRemover.StopWordRemoverFactory import StopWordRemoverFactory"
   ]
  },
  {
   "cell_type": "code",
   "execution_count": 65,
   "id": "9b41cf17-7d0e-44da-b75f-f2ef6a389156",
   "metadata": {},
   "outputs": [
    {
     "name": "stdout",
     "output_type": "stream",
     "text": [
      "['yang', 'untuk', 'pada', 'ke', 'para', 'namun', 'menurut', 'antara', 'dia', 'dua', 'ia', 'seperti', 'jika', 'jika', 'sehingga', 'kembali', 'dan', 'tidak', 'ini', 'karena', 'kepada', 'oleh', 'saat', 'harus', 'sementara', 'setelah', 'belum', 'kami', 'sekitar', 'bagi', 'serta', 'di', 'dari', 'telah', 'sebagai', 'masih', 'hal', 'ketika', 'adalah', 'itu', 'dalam', 'bisa', 'bahwa', 'atau', 'hanya', 'kita', 'dengan', 'akan', 'juga', 'ada', 'mereka', 'sudah', 'saya', 'terhadap', 'secara', 'agar', 'lain', 'anda', 'begitu', 'mengapa', 'kenapa', 'yaitu', 'yakni', 'daripada', 'itulah', 'lagi', 'maka', 'tentang', 'demi', 'dimana', 'kemana', 'pula', 'sambil', 'sebelum', 'sesudah', 'supaya', 'guna', 'kah', 'pun', 'sampai', 'sedangkan', 'selagi', 'sementara', 'tetapi', 'apakah', 'kecuali', 'sebab', 'selain', 'seolah', 'seraya', 'seterusnya', 'tanpa', 'agak', 'boleh', 'dapat', 'dsb', 'dst', 'dll', 'dahulu', 'dulunya', 'anu', 'demikian', 'tapi', 'ingin', 'juga', 'nggak', 'mari', 'nanti', 'melainkan', 'oh', 'ok', 'seharusnya', 'sebetulnya', 'setiap', 'setidaknya', 'sesuatu', 'pasti', 'saja', 'toh', 'ya', 'walau', 'tolong', 'tentu', 'amat', 'apalagi', 'bagaimanapun']\n"
     ]
    }
   ],
   "source": [
    "factory = StopWordRemoverFactory()\n",
    "stopwords = factory.get_stop_words()\n",
    "\n",
    "print(stopwords)"
   ]
  },
  {
   "cell_type": "code",
   "execution_count": 66,
   "id": "d1a3f89d-cc74-44b8-8be7-1115e3e20f98",
   "metadata": {},
   "outputs": [],
   "source": [
    "stopwords = factory.create_stop_word_remover()"
   ]
  },
  {
   "cell_type": "code",
   "execution_count": 67,
   "id": "cc3eb6df-ae42-4d6d-8388-5ee967c221d7",
   "metadata": {},
   "outputs": [],
   "source": [
    "process_df['text'] = process_df['text'].apply(stopwords.remove)"
   ]
  },
  {
   "cell_type": "code",
   "execution_count": 68,
   "id": "bb7d1a1c-dd68-45e1-9ad6-32061c3c828d",
   "metadata": {},
   "outputs": [],
   "source": [
    "# process_df.duplicated().sum()"
   ]
  },
  {
   "cell_type": "markdown",
   "id": "0fe15b89-87b7-4904-9db7-25a0213c1246",
   "metadata": {},
   "source": [
    "### Twitter stopwords"
   ]
  },
  {
   "cell_type": "markdown",
   "id": "d84f8cc7-cc9c-4829-9de3-c0a36504026f",
   "metadata": {},
   "source": [
    "https://github.com/Braincore-id/IndoTWEEST"
   ]
  },
  {
   "cell_type": "code",
   "execution_count": 141,
   "id": "9f2d3938-3b5e-4039-bf3e-3a24877bd5f0",
   "metadata": {},
   "outputs": [],
   "source": [
    "stopwords_df = pd.read_csv('./dictionary/stopwords_twitter.csv')  # Ganti dengan path ke file Anda\n",
    "stopwords = set(stopwords_df['33books'].str.strip().tolist())  # Mengambil daftar stopword\n",
    "\n",
    "# Membuat regex untuk mencocokkan stopword\n",
    "stopword_pattern = r'\\b(?:' + '|'.join(map(re.escape, stopwords)) + r')\\b'\n",
    "\n",
    "# Menghapus stopword dari teks\n",
    "process_df['text'] = process_df['text'].str.replace(stopword_pattern, '', regex=True)\n",
    "\n",
    "# Menghapus spasi berlebihan (jika diperlukan)\n",
    "process_df['text'] = process_df['text'].str.replace(r'\\s{2,}', ' ', regex=True).str.strip()"
   ]
  },
  {
   "cell_type": "markdown",
   "id": "17e5c370-3b15-4c4a-8cb2-a3e5bc5617cc",
   "metadata": {},
   "source": [
    "### Other stopwords handling"
   ]
  },
  {
   "cell_type": "markdown",
   "id": "788d78a2-bf6c-4528-92f7-8064062287eb",
   "metadata": {},
   "source": [
    "https://github.com/nasalsabila/kamus-alay"
   ]
  },
  {
   "cell_type": "code",
   "execution_count": 142,
   "id": "d0faf114-6e00-43e4-854d-5965100892ce",
   "metadata": {},
   "outputs": [],
   "source": [
    "slang_df = pd.read_csv('./dictionary/colloquial-indonesian-lexicon.csv')  # Ganti dengan path ke file CSV Anda\n",
    "slang_dict = dict(zip(slang_df['slang'], slang_df['formal']))  # Membuat dictionary slang -> formal\n",
    "\n",
    "# Membuat regex pattern untuk semua slang\n",
    "slang_pattern = r'\\b(?:' + '|'.join(map(re.escape, slang_dict.keys())) + r')\\b'\n",
    "\n",
    "# Fungsi untuk mengganti slang dengan formal\n",
    "def replace_slang(text):\n",
    "    return re.sub(slang_pattern, lambda match: slang_dict[match.group(0)], text)\n",
    "\n",
    "# Menerapkan fungsi ke kolom teks\n",
    "process_df['text'] = process_df['text'].apply(replace_slang)"
   ]
  },
  {
   "cell_type": "code",
   "execution_count": 147,
   "id": "17f3b056-41e3-4c6c-9ccc-0cfb9bea3ccc",
   "metadata": {},
   "outputs": [],
   "source": [
    "# process_df.duplicated().sum()\n",
    "process_df.drop_duplicates(inplace=True) # memastikan tidak ada duplikat"
   ]
  },
  {
   "cell_type": "markdown",
   "id": "dcd53332-ddf6-465c-9db5-0bf3bf1d217b",
   "metadata": {
    "tags": []
   },
   "source": [
    "## Stemming text"
   ]
  },
  {
   "cell_type": "code",
   "execution_count": 148,
   "id": "9180daa8-5d98-4270-807e-484a48ef8386",
   "metadata": {},
   "outputs": [
    {
     "name": "stderr",
     "output_type": "stream",
     "text": [
      "[nltk_data] Downloading package punkt to\n",
      "[nltk_data]     /home/pityudhistira28/nltk_data...\n",
      "[nltk_data]   Package punkt is already up-to-date!\n",
      "[nltk_data] Downloading package punkt_tab to\n",
      "[nltk_data]     /home/pityudhistira28/nltk_data...\n",
      "[nltk_data]   Package punkt_tab is already up-to-date!\n",
      "[nltk_data] Downloading package stopwords to\n",
      "[nltk_data]     /home/pityudhistira28/nltk_data...\n",
      "[nltk_data]   Package stopwords is already up-to-date!\n"
     ]
    },
    {
     "data": {
      "text/plain": [
       "True"
      ]
     },
     "execution_count": 148,
     "metadata": {},
     "output_type": "execute_result"
    }
   ],
   "source": [
    "import nltk\n",
    "from nltk.tokenize import word_tokenize\n",
    "\n",
    "nltk.download('punkt')\n",
    "nltk.download('punkt_tab')\n",
    "nltk.download('stopwords')"
   ]
  },
  {
   "cell_type": "code",
   "execution_count": 149,
   "id": "874c10bf-9bf8-4f9d-b57b-8096d9acfeae",
   "metadata": {},
   "outputs": [],
   "source": [
    "df = process_df.copy()"
   ]
  },
  {
   "cell_type": "code",
   "execution_count": 150,
   "id": "f4b0e863-ac1d-45f4-b3c1-26c20825f6c8",
   "metadata": {},
   "outputs": [],
   "source": [
    "def tokenize_text(sentence):\n",
    "    token = word_tokenize(sentence)\n",
    "    return token"
   ]
  },
  {
   "cell_type": "code",
   "execution_count": 151,
   "id": "b9d4c791-7307-4eb6-bb87-14d661a3113a",
   "metadata": {},
   "outputs": [
    {
     "data": {
      "text/html": [
       "<div>\n",
       "<style scoped>\n",
       "    .dataframe tbody tr th:only-of-type {\n",
       "        vertical-align: middle;\n",
       "    }\n",
       "\n",
       "    .dataframe tbody tr th {\n",
       "        vertical-align: top;\n",
       "    }\n",
       "\n",
       "    .dataframe thead th {\n",
       "        text-align: right;\n",
       "    }\n",
       "</style>\n",
       "<table border=\"1\" class=\"dataframe\">\n",
       "  <thead>\n",
       "    <tr style=\"text-align: right;\">\n",
       "      <th></th>\n",
       "      <th>text</th>\n",
       "      <th>label</th>\n",
       "      <th>token</th>\n",
       "    </tr>\n",
       "  </thead>\n",
       "  <tbody>\n",
       "    <tr>\n",
       "      <th>0</th>\n",
       "      <td>kunjungan prabowo untuk meresmikan menyerahkan...</td>\n",
       "      <td>Sumber Daya Alam</td>\n",
       "      <td>[kunjungan, prabowo, untuk, meresmikan, menyer...</td>\n",
       "    </tr>\n",
       "    <tr>\n",
       "      <th>1</th>\n",
       "      <td>anies tepuk tangan meriah jadi rektor mewajibk...</td>\n",
       "      <td>Politik</td>\n",
       "      <td>[anies, tepuk, tangan, meriah, jadi, rektor, m...</td>\n",
       "    </tr>\n",
       "    <tr>\n",
       "      <th>2</th>\n",
       "      <td>benar pendukung goblok pendukung hanya saja pa...</td>\n",
       "      <td>Demografi</td>\n",
       "      <td>[benar, pendukung, goblok, pendukung, hanya, s...</td>\n",
       "    </tr>\n",
       "    <tr>\n",
       "      <th>3</th>\n",
       "      <td>sewaktu anies bersikap kritis kinerja pak prab...</td>\n",
       "      <td>Politik</td>\n",
       "      <td>[sewaktu, anies, bersikap, kritis, kinerja, pa...</td>\n",
       "    </tr>\n",
       "    <tr>\n",
       "      <th>4</th>\n",
       "      <td>anies baswedan harap asn termasuk tni polri pe...</td>\n",
       "      <td>Politik</td>\n",
       "      <td>[anies, baswedan, harap, asn, termasuk, tni, p...</td>\n",
       "    </tr>\n",
       "  </tbody>\n",
       "</table>\n",
       "</div>"
      ],
      "text/plain": [
       "                                                text             label  \\\n",
       "0  kunjungan prabowo untuk meresmikan menyerahkan...  Sumber Daya Alam   \n",
       "1  anies tepuk tangan meriah jadi rektor mewajibk...           Politik   \n",
       "2  benar pendukung goblok pendukung hanya saja pa...         Demografi   \n",
       "3  sewaktu anies bersikap kritis kinerja pak prab...           Politik   \n",
       "4  anies baswedan harap asn termasuk tni polri pe...           Politik   \n",
       "\n",
       "                                               token  \n",
       "0  [kunjungan, prabowo, untuk, meresmikan, menyer...  \n",
       "1  [anies, tepuk, tangan, meriah, jadi, rektor, m...  \n",
       "2  [benar, pendukung, goblok, pendukung, hanya, s...  \n",
       "3  [sewaktu, anies, bersikap, kritis, kinerja, pa...  \n",
       "4  [anies, baswedan, harap, asn, termasuk, tni, p...  "
      ]
     },
     "execution_count": 151,
     "metadata": {},
     "output_type": "execute_result"
    }
   ],
   "source": [
    "df['token'] = df['text'].apply(tokenize_text)\n",
    "df.head()"
   ]
  },
  {
   "cell_type": "code",
   "execution_count": 152,
   "id": "a401e3d2-b26e-4133-86bf-c12cd5f8378a",
   "metadata": {},
   "outputs": [],
   "source": [
    "from Sastrawi.Stemmer.StemmerFactory import StemmerFactory\n",
    "\n",
    "stem_factory = StemmerFactory()\n",
    "stemmer = stem_factory.create_stemmer()"
   ]
  },
  {
   "cell_type": "code",
   "execution_count": 153,
   "id": "da3d58f3-3ab1-4317-92b0-d29eed99d7cc",
   "metadata": {},
   "outputs": [],
   "source": [
    "def stemming_text(tokens):\n",
    "    result = [stemmer.stem(token) for token in tokens]\n",
    "    return result"
   ]
  },
  {
   "cell_type": "code",
   "execution_count": 154,
   "id": "cbf6465a-e1a9-47aa-bd9e-d8dba48e52a9",
   "metadata": {},
   "outputs": [],
   "source": [
    "df['stemmed'] = df['token'].apply(stemming_text)"
   ]
  },
  {
   "cell_type": "code",
   "execution_count": 155,
   "id": "2994b9fb-7b3f-46ba-b33c-e4078a3fac5e",
   "metadata": {},
   "outputs": [
    {
     "data": {
      "text/html": [
       "<div>\n",
       "<style scoped>\n",
       "    .dataframe tbody tr th:only-of-type {\n",
       "        vertical-align: middle;\n",
       "    }\n",
       "\n",
       "    .dataframe tbody tr th {\n",
       "        vertical-align: top;\n",
       "    }\n",
       "\n",
       "    .dataframe thead th {\n",
       "        text-align: right;\n",
       "    }\n",
       "</style>\n",
       "<table border=\"1\" class=\"dataframe\">\n",
       "  <thead>\n",
       "    <tr style=\"text-align: right;\">\n",
       "      <th></th>\n",
       "      <th>text</th>\n",
       "      <th>label</th>\n",
       "      <th>token</th>\n",
       "      <th>stemmed</th>\n",
       "      <th>stemmed_text</th>\n",
       "    </tr>\n",
       "  </thead>\n",
       "  <tbody>\n",
       "    <tr>\n",
       "      <th>0</th>\n",
       "      <td>kunjungan prabowo untuk meresmikan menyerahkan...</td>\n",
       "      <td>Sumber Daya Alam</td>\n",
       "      <td>[kunjungan, prabowo, untuk, meresmikan, menyer...</td>\n",
       "      <td>[kunjung, prabowo, untuk, resmi, serah, proyek...</td>\n",
       "      <td>kunjung prabowo untuk resmi serah proyek bantu...</td>\n",
       "    </tr>\n",
       "    <tr>\n",
       "      <th>1</th>\n",
       "      <td>anies tepuk tangan meriah jadi rektor mewajibk...</td>\n",
       "      <td>Politik</td>\n",
       "      <td>[anies, tepuk, tangan, meriah, jadi, rektor, m...</td>\n",
       "      <td>[anies, tepuk, tangan, riah, jadi, rektor, waj...</td>\n",
       "      <td>anies tepuk tangan riah jadi rektor wajib mata...</td>\n",
       "    </tr>\n",
       "    <tr>\n",
       "      <th>2</th>\n",
       "      <td>benar pendukung goblok pendukung hanya saja pa...</td>\n",
       "      <td>Demografi</td>\n",
       "      <td>[benar, pendukung, goblok, pendukung, hanya, s...</td>\n",
       "      <td>[benar, dukung, goblok, dukung, hanya, saja, p...</td>\n",
       "      <td>benar dukung goblok dukung hanya saja pak ridw...</td>\n",
       "    </tr>\n",
       "    <tr>\n",
       "      <th>3</th>\n",
       "      <td>sewaktu anies bersikap kritis kinerja pak prab...</td>\n",
       "      <td>Politik</td>\n",
       "      <td>[sewaktu, anies, bersikap, kritis, kinerja, pa...</td>\n",
       "      <td>[waktu, anies, sikap, kritis, kerja, pak, prab...</td>\n",
       "      <td>waktu anies sikap kritis kerja pak prabowo ang...</td>\n",
       "    </tr>\n",
       "    <tr>\n",
       "      <th>4</th>\n",
       "      <td>anies baswedan harap asn termasuk tni polri pe...</td>\n",
       "      <td>Politik</td>\n",
       "      <td>[anies, baswedan, harap, asn, termasuk, tni, p...</td>\n",
       "      <td>[anies, baswedan, harap, asn, masuk, tni, polr...</td>\n",
       "      <td>anies baswedan harap asn masuk tni polri pegan...</td>\n",
       "    </tr>\n",
       "    <tr>\n",
       "      <th>...</th>\n",
       "      <td>...</td>\n",
       "      <td>...</td>\n",
       "      <td>...</td>\n",
       "      <td>...</td>\n",
       "      <td>...</td>\n",
       "    </tr>\n",
       "    <tr>\n",
       "      <th>4995</th>\n",
       "      <td>melihat debat kemarin pas prabowo kicep kekira...</td>\n",
       "      <td>Politik</td>\n",
       "      <td>[melihat, debat, kemarin, pas, prabowo, kicep,...</td>\n",
       "      <td>[lihat, debat, kemarin, pas, prabowo, kicep, k...</td>\n",
       "      <td>lihat debat kemarin pas prabowo kicep kira kel...</td>\n",
       "    </tr>\n",
       "    <tr>\n",
       "      <th>4996</th>\n",
       "      <td>masyarakat yakin prabowogibran memiliki visi s...</td>\n",
       "      <td>Politik</td>\n",
       "      <td>[masyarakat, yakin, prabowogibran, memiliki, v...</td>\n",
       "      <td>[masyarakat, yakin, prabowogibran, milik, visi...</td>\n",
       "      <td>masyarakat yakin prabowogibran milik visi jala...</td>\n",
       "    </tr>\n",
       "    <tr>\n",
       "      <th>4997</th>\n",
       "      <td>imo both are irrational but satu jauh lebih ir...</td>\n",
       "      <td>Ekonomi</td>\n",
       "      <td>[imo, both, are, irrational, but, satu, jauh, ...</td>\n",
       "      <td>[imo, both, are, irrational, but, satu, jauh, ...</td>\n",
       "      <td>imo both are irrational but satu jauh lebih ir...</td>\n",
       "    </tr>\n",
       "    <tr>\n",
       "      <th>4998</th>\n",
       "      <td>look that pak ganjar sudah berkecimpung lgisla...</td>\n",
       "      <td>Pertahanan dan Keamanan</td>\n",
       "      <td>[look, that, pak, ganjar, sudah, berkecimpung,...</td>\n",
       "      <td>[look, that, pak, ganjar, sudah, kecimpung, lg...</td>\n",
       "      <td>look that pak ganjar sudah kecimpung lgislatif...</td>\n",
       "    </tr>\n",
       "    <tr>\n",
       "      <th>4999</th>\n",
       "      <td>acara tidak memasak calon presiden nomor urut ...</td>\n",
       "      <td>Sumber Daya Alam</td>\n",
       "      <td>[acara, tidak, memasak, calon, presiden, nomor...</td>\n",
       "      <td>[acara, tidak, masak, calon, presiden, nomor, ...</td>\n",
       "      <td>acara tidak masak calon presiden nomor urut ha...</td>\n",
       "    </tr>\n",
       "  </tbody>\n",
       "</table>\n",
       "<p>4338 rows × 5 columns</p>\n",
       "</div>"
      ],
      "text/plain": [
       "                                                   text  \\\n",
       "0     kunjungan prabowo untuk meresmikan menyerahkan...   \n",
       "1     anies tepuk tangan meriah jadi rektor mewajibk...   \n",
       "2     benar pendukung goblok pendukung hanya saja pa...   \n",
       "3     sewaktu anies bersikap kritis kinerja pak prab...   \n",
       "4     anies baswedan harap asn termasuk tni polri pe...   \n",
       "...                                                 ...   \n",
       "4995  melihat debat kemarin pas prabowo kicep kekira...   \n",
       "4996  masyarakat yakin prabowogibran memiliki visi s...   \n",
       "4997  imo both are irrational but satu jauh lebih ir...   \n",
       "4998  look that pak ganjar sudah berkecimpung lgisla...   \n",
       "4999  acara tidak memasak calon presiden nomor urut ...   \n",
       "\n",
       "                        label  \\\n",
       "0            Sumber Daya Alam   \n",
       "1                     Politik   \n",
       "2                   Demografi   \n",
       "3                     Politik   \n",
       "4                     Politik   \n",
       "...                       ...   \n",
       "4995                  Politik   \n",
       "4996                  Politik   \n",
       "4997                  Ekonomi   \n",
       "4998  Pertahanan dan Keamanan   \n",
       "4999         Sumber Daya Alam   \n",
       "\n",
       "                                                  token  \\\n",
       "0     [kunjungan, prabowo, untuk, meresmikan, menyer...   \n",
       "1     [anies, tepuk, tangan, meriah, jadi, rektor, m...   \n",
       "2     [benar, pendukung, goblok, pendukung, hanya, s...   \n",
       "3     [sewaktu, anies, bersikap, kritis, kinerja, pa...   \n",
       "4     [anies, baswedan, harap, asn, termasuk, tni, p...   \n",
       "...                                                 ...   \n",
       "4995  [melihat, debat, kemarin, pas, prabowo, kicep,...   \n",
       "4996  [masyarakat, yakin, prabowogibran, memiliki, v...   \n",
       "4997  [imo, both, are, irrational, but, satu, jauh, ...   \n",
       "4998  [look, that, pak, ganjar, sudah, berkecimpung,...   \n",
       "4999  [acara, tidak, memasak, calon, presiden, nomor...   \n",
       "\n",
       "                                                stemmed  \\\n",
       "0     [kunjung, prabowo, untuk, resmi, serah, proyek...   \n",
       "1     [anies, tepuk, tangan, riah, jadi, rektor, waj...   \n",
       "2     [benar, dukung, goblok, dukung, hanya, saja, p...   \n",
       "3     [waktu, anies, sikap, kritis, kerja, pak, prab...   \n",
       "4     [anies, baswedan, harap, asn, masuk, tni, polr...   \n",
       "...                                                 ...   \n",
       "4995  [lihat, debat, kemarin, pas, prabowo, kicep, k...   \n",
       "4996  [masyarakat, yakin, prabowogibran, milik, visi...   \n",
       "4997  [imo, both, are, irrational, but, satu, jauh, ...   \n",
       "4998  [look, that, pak, ganjar, sudah, kecimpung, lg...   \n",
       "4999  [acara, tidak, masak, calon, presiden, nomor, ...   \n",
       "\n",
       "                                           stemmed_text  \n",
       "0     kunjung prabowo untuk resmi serah proyek bantu...  \n",
       "1     anies tepuk tangan riah jadi rektor wajib mata...  \n",
       "2     benar dukung goblok dukung hanya saja pak ridw...  \n",
       "3     waktu anies sikap kritis kerja pak prabowo ang...  \n",
       "4     anies baswedan harap asn masuk tni polri pegan...  \n",
       "...                                                 ...  \n",
       "4995  lihat debat kemarin pas prabowo kicep kira kel...  \n",
       "4996  masyarakat yakin prabowogibran milik visi jala...  \n",
       "4997  imo both are irrational but satu jauh lebih ir...  \n",
       "4998  look that pak ganjar sudah kecimpung lgislatif...  \n",
       "4999  acara tidak masak calon presiden nomor urut ha...  \n",
       "\n",
       "[4338 rows x 5 columns]"
      ]
     },
     "execution_count": 155,
     "metadata": {},
     "output_type": "execute_result"
    }
   ],
   "source": [
    "df['stemmed_text'] = df['stemmed'].apply(lambda tokens: ' '.join(tokens))\n",
    "df"
   ]
  },
  {
   "cell_type": "code",
   "execution_count": 156,
   "id": "17b227c7-ef73-46e1-b17b-17c4ccdcadbd",
   "metadata": {},
   "outputs": [],
   "source": [
    "process_df['text'] = df['stemmed_text']"
   ]
  },
  {
   "cell_type": "code",
   "execution_count": 158,
   "id": "c8d8b6c3-787f-4642-801e-a0f985c303ed",
   "metadata": {},
   "outputs": [
    {
     "data": {
      "text/plain": [
       "0"
      ]
     },
     "execution_count": 158,
     "metadata": {},
     "output_type": "execute_result"
    }
   ],
   "source": [
    "process_df.duplicated().sum()"
   ]
  },
  {
   "cell_type": "markdown",
   "id": "2bfd8581-f8e3-4cab-bf20-efba068af70f",
   "metadata": {},
   "source": [
    "# Export"
   ]
  },
  {
   "cell_type": "code",
   "execution_count": 159,
   "id": "275b3a30-136e-4807-91fb-81a555bf50a6",
   "metadata": {},
   "outputs": [],
   "source": [
    "process_df.to_csv('./dataset/clean.csv', index=False)"
   ]
  }
 ],
 "metadata": {
  "kernelspec": {
   "display_name": "dac",
   "language": "python",
   "name": "dac"
  },
  "language_info": {
   "codemirror_mode": {
    "name": "ipython",
    "version": 3
   },
   "file_extension": ".py",
   "mimetype": "text/x-python",
   "name": "python",
   "nbconvert_exporter": "python",
   "pygments_lexer": "ipython3",
   "version": "3.12.5"
  }
 },
 "nbformat": 4,
 "nbformat_minor": 5
}
